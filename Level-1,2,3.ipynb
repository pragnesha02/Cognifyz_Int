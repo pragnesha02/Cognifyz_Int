{
  "cells": [
    {
      "cell_type": "markdown",
      "metadata": {
        "id": "view-in-github",
        "colab_type": "text"
      },
      "source": [
        "<a href=\"https://colab.research.google.com/github/pragnesha02/Cognifyz_Int/blob/main/Level-1%2C2%2C3.ipynb\" target=\"_parent\"><img src=\"https://colab.research.google.com/assets/colab-badge.svg\" alt=\"Open In Colab\"/></a>"
      ]
    },
    {
      "cell_type": "code",
      "execution_count": null,
      "metadata": {
        "id": "t3dJfyUoaB-Z"
      },
      "outputs": [],
      "source": [
        "import pandas as pd\n",
        "import numpy as np\n",
        "import matplotlib.pyplot as plt\n",
        "import seaborn as sns"
      ]
    },
    {
      "cell_type": "code",
      "execution_count": null,
      "metadata": {
        "colab": {
          "base_uri": "https://localhost:8080/"
        },
        "id": "Mi8fI32FagRp",
        "outputId": "1c1bc05d-2dff-4fc6-dca5-b1c3e43564bb"
      },
      "outputs": [
        {
          "name": "stdout",
          "output_type": "stream",
          "text": [
            "   Restaurant ID         Restaurant Name  Country Code              City  \\\n",
            "0        6317637        Le Petit Souffle           162       Makati City   \n",
            "1        6304287        Izakaya Kikufuji           162       Makati City   \n",
            "2        6300002  Heat - Edsa Shangri-La           162  Mandaluyong City   \n",
            "\n",
            "                                             Address  \\\n",
            "0  Third Floor, Century City Mall, Kalayaan Avenu...   \n",
            "1  Little Tokyo, 2277 Chino Roces Avenue, Legaspi...   \n",
            "2  Edsa Shangri-La, 1 Garden Way, Ortigas, Mandal...   \n",
            "\n",
            "                                     Locality  \\\n",
            "0   Century City Mall, Poblacion, Makati City   \n",
            "1  Little Tokyo, Legaspi Village, Makati City   \n",
            "2  Edsa Shangri-La, Ortigas, Mandaluyong City   \n",
            "\n",
            "                                    Locality Verbose   Longitude   Latitude  \\\n",
            "0  Century City Mall, Poblacion, Makati City, Mak...  121.027535  14.565443   \n",
            "1  Little Tokyo, Legaspi Village, Makati City, Ma...  121.014101  14.553708   \n",
            "2  Edsa Shangri-La, Ortigas, Mandaluyong City, Ma...  121.056831  14.581404   \n",
            "\n",
            "                           Cuisines  ...          Currency Has Table booking  \\\n",
            "0        French, Japanese, Desserts  ...  Botswana Pula(P)               Yes   \n",
            "1                          Japanese  ...  Botswana Pula(P)               Yes   \n",
            "2  Seafood, Asian, Filipino, Indian  ...  Botswana Pula(P)               Yes   \n",
            "\n",
            "  Has Online delivery Is delivering now Switch to order menu Price range  \\\n",
            "0                  No                No                   No           3   \n",
            "1                  No                No                   No           3   \n",
            "2                  No                No                   No           4   \n",
            "\n",
            "   Aggregate rating  Rating color Rating text Votes  \n",
            "0               4.8    Dark Green   Excellent   314  \n",
            "1               4.5    Dark Green   Excellent   591  \n",
            "2               4.4         Green   Very Good   270  \n",
            "\n",
            "[3 rows x 21 columns]\n"
          ]
        }
      ],
      "source": [
        "data=pd.read_csv('dataset.csv')\n",
        "print(data.head(3))"
      ]
    },
    {
      "cell_type": "code",
      "execution_count": null,
      "metadata": {
        "colab": {
          "base_uri": "https://localhost:8080/"
        },
        "id": "lhqKtq7Kapzo",
        "outputId": "48eaa441-c36e-47c0-87c0-4fbe6e88a7d0"
      },
      "outputs": [
        {
          "name": "stdout",
          "output_type": "stream",
          "text": [
            "<class 'pandas.core.frame.DataFrame'>\n",
            "RangeIndex: 9551 entries, 0 to 9550\n",
            "Data columns (total 21 columns):\n",
            " #   Column                Non-Null Count  Dtype  \n",
            "---  ------                --------------  -----  \n",
            " 0   Restaurant ID         9551 non-null   int64  \n",
            " 1   Restaurant Name       9551 non-null   object \n",
            " 2   Country Code          9551 non-null   int64  \n",
            " 3   City                  9551 non-null   object \n",
            " 4   Address               9551 non-null   object \n",
            " 5   Locality              9551 non-null   object \n",
            " 6   Locality Verbose      9551 non-null   object \n",
            " 7   Longitude             9551 non-null   float64\n",
            " 8   Latitude              9551 non-null   float64\n",
            " 9   Cuisines              9542 non-null   object \n",
            " 10  Average Cost for two  9551 non-null   int64  \n",
            " 11  Currency              9551 non-null   object \n",
            " 12  Has Table booking     9551 non-null   object \n",
            " 13  Has Online delivery   9551 non-null   object \n",
            " 14  Is delivering now     9551 non-null   object \n",
            " 15  Switch to order menu  9551 non-null   object \n",
            " 16  Price range           9551 non-null   int64  \n",
            " 17  Aggregate rating      9551 non-null   float64\n",
            " 18  Rating color          9551 non-null   object \n",
            " 19  Rating text           9551 non-null   object \n",
            " 20  Votes                 9551 non-null   int64  \n",
            "dtypes: float64(3), int64(5), object(13)\n",
            "memory usage: 1.5+ MB\n",
            "None\n"
          ]
        }
      ],
      "source": [
        "print(data.info())"
      ]
    },
    {
      "cell_type": "code",
      "execution_count": null,
      "metadata": {
        "colab": {
          "base_uri": "https://localhost:8080/"
        },
        "id": "f41Lgm4LauZG",
        "outputId": "4643172d-6cb1-4779-b4da-86ef117c79b9"
      },
      "outputs": [
        {
          "name": "stdout",
          "output_type": "stream",
          "text": [
            "(9551, 21)\n"
          ]
        }
      ],
      "source": [
        "print(data.shape)"
      ]
    },
    {
      "cell_type": "markdown",
      "metadata": {
        "id": "jMabsZOcfkDl"
      },
      "source": [
        "# **Task-1: Top Cuisines**"
      ]
    },
    {
      "cell_type": "markdown",
      "metadata": {
        "id": "NZNmlttfa9eG"
      },
      "source": [
        "# **Determine the top three most common cuisines in the dataset.**"
      ]
    },
    {
      "cell_type": "code",
      "execution_count": null,
      "metadata": {
        "colab": {
          "base_uri": "https://localhost:8080/"
        },
        "id": "Dw3oYvJeavRF",
        "outputId": "3c624954-115d-4bf6-8caa-c5a979e3a866"
      },
      "outputs": [
        {
          "name": "stdout",
          "output_type": "stream",
          "text": [
            "Cuisines\n",
            "North Indian             936\n",
            "North Indian, Chinese    511\n",
            "Chinese                  354\n",
            "Name: count, dtype: int64\n"
          ]
        }
      ],
      "source": [
        "print(data['Cuisines'].value_counts().head(3))"
      ]
    },
    {
      "cell_type": "markdown",
      "metadata": {
        "id": "X3eNPQkfbZXu"
      },
      "source": [
        "# **Calculate the percentage of restaurants that serve each of the top cuisines.**"
      ]
    },
    {
      "cell_type": "code",
      "execution_count": null,
      "metadata": {
        "colab": {
          "base_uri": "https://localhost:8080/"
        },
        "id": "bEY-yte7avea",
        "outputId": "d2d1ab9c-191f-4176-f79d-dd0dc6fc6e78"
      },
      "outputs": [
        {
          "name": "stdout",
          "output_type": "stream",
          "text": [
            "9551\n"
          ]
        }
      ],
      "source": [
        "total_Restaurant=len(data)\n",
        "print(total_Restaurant)"
      ]
    },
    {
      "cell_type": "code",
      "execution_count": null,
      "metadata": {
        "colab": {
          "base_uri": "https://localhost:8080/"
        },
        "id": "huJ041kPavoa",
        "outputId": "728f11f5-980f-4dcb-dbec-3256a228ad46"
      },
      "outputs": [
        {
          "name": "stdout",
          "output_type": "stream",
          "text": [
            "Cuisines\n",
            "North Indian                      936\n",
            "North Indian, Chinese             511\n",
            "Chinese                           354\n",
            "Fast Food                         354\n",
            "North Indian, Mughlai             334\n",
            "Cafe                              299\n",
            "Bakery                            218\n",
            "North Indian, Mughlai, Chinese    197\n",
            "Bakery, Desserts                  170\n",
            "Street Food                       149\n",
            "Name: count, dtype: int64\n"
          ]
        }
      ],
      "source": [
        "print(data['Cuisines'].value_counts().head(10))"
      ]
    },
    {
      "cell_type": "code",
      "execution_count": null,
      "metadata": {
        "colab": {
          "base_uri": "https://localhost:8080/"
        },
        "id": "d-so24k4blCF",
        "outputId": "37957e61-a4c0-4a3e-965c-fbf114353748"
      },
      "outputs": [
        {
          "name": "stdout",
          "output_type": "stream",
          "text": [
            "Cuisines\n",
            "North Indian                      9.800021\n",
            "North Indian, Chinese             5.350225\n",
            "Chinese                           3.706418\n",
            "Fast Food                         3.706418\n",
            "North Indian, Mughlai             3.497016\n",
            "Cafe                              3.130562\n",
            "Bakery                            2.282484\n",
            "North Indian, Mughlai, Chinese    2.062611\n",
            "Bakery, Desserts                  1.779918\n",
            "Street Food                       1.560046\n",
            "Name: count, dtype: float64\n"
          ]
        }
      ],
      "source": [
        "persentage=(data['Cuisines'].value_counts().head(10)/total_Restaurant)*100\n",
        "print(persentage)"
      ]
    },
    {
      "cell_type": "markdown",
      "metadata": {
        "id": "NFrUH4PugAgV"
      },
      "source": [
        "# **Task-2: City Analysis**"
      ]
    },
    {
      "cell_type": "markdown",
      "metadata": {
        "id": "DN4oWSyrbr0K"
      },
      "source": [
        "# **Identify the city with the highest number of restaurants in the dataset.**"
      ]
    },
    {
      "cell_type": "code",
      "execution_count": null,
      "metadata": {
        "colab": {
          "base_uri": "https://localhost:8080/"
        },
        "id": "CktijvcjbsLz",
        "outputId": "9aa66234-d154-426f-8837-44e3e63e0718"
      },
      "outputs": [
        {
          "name": "stdout",
          "output_type": "stream",
          "text": [
            "City\n",
            "New Delhi    5473\n",
            "Name: count, dtype: int64\n"
          ]
        }
      ],
      "source": [
        "city_with_restaurant=data['City'].value_counts().head(1)\n",
        "print(city_with_restaurant)"
      ]
    },
    {
      "cell_type": "markdown",
      "metadata": {
        "id": "mM3zFuCzdLXA"
      },
      "source": [
        "# **Calculate the average rating for restaurants in each city.**"
      ]
    },
    {
      "cell_type": "code",
      "execution_count": null,
      "metadata": {
        "colab": {
          "base_uri": "https://localhost:8080/"
        },
        "id": "rYuuu1ldiFa0",
        "outputId": "bcec8c56-d49a-461a-8977-46bb46d50b62"
      },
      "outputs": [
        {
          "name": "stdout",
          "output_type": "stream",
          "text": [
            "City\n",
            "Abu Dhabi          4.300000\n",
            "Agra               3.965000\n",
            "Ahmedabad          4.161905\n",
            "Albany             3.555000\n",
            "Allahabad          3.395000\n",
            "                     ...   \n",
            "Weirton            3.900000\n",
            "Wellington City    4.250000\n",
            "Winchester Bay     3.200000\n",
            "Yorkton            3.300000\n",
            "��stanbul          4.292857\n",
            "Name: Aggregate rating, Length: 141, dtype: float64\n"
          ]
        }
      ],
      "source": [
        "print(data.groupby('City')['Aggregate rating'].mean())"
      ]
    },
    {
      "cell_type": "markdown",
      "metadata": {
        "id": "ZF0w81FldS11"
      },
      "source": [
        "# **Determine the city with the highest average rating.**"
      ]
    },
    {
      "cell_type": "code",
      "execution_count": null,
      "metadata": {
        "colab": {
          "base_uri": "https://localhost:8080/"
        },
        "id": "kyesvGCebsYD",
        "outputId": "51e1ba9e-5c99-41a1-e9b8-e558974dfa36"
      },
      "outputs": [
        {
          "name": "stdout",
          "output_type": "stream",
          "text": [
            "City\n",
            "Abu Dhabi          4.300000\n",
            "Agra               3.965000\n",
            "Ahmedabad          4.161905\n",
            "Albany             3.555000\n",
            "Allahabad          3.395000\n",
            "                     ...   \n",
            "Weirton            3.900000\n",
            "Wellington City    4.250000\n",
            "Winchester Bay     3.200000\n",
            "Yorkton            3.300000\n",
            "��stanbul          4.292857\n",
            "Name: Aggregate rating, Length: 141, dtype: float64\n"
          ]
        }
      ],
      "source": [
        "city_avg_rating=data.groupby('City')['Aggregate rating'].mean()\n",
        "print(city_avg_rating)"
      ]
    },
    {
      "cell_type": "code",
      "execution_count": null,
      "metadata": {
        "colab": {
          "base_uri": "https://localhost:8080/"
        },
        "id": "7N8nHm07dgCc",
        "outputId": "0da82f26-f439-4dc7-d02b-07972a71a3cc"
      },
      "outputs": [
        {
          "name": "stdout",
          "output_type": "stream",
          "text": [
            "Inner City\n"
          ]
        }
      ],
      "source": [
        "highest_rating_city=city_avg_rating.idxmax()\n",
        "print(highest_rating_city)"
      ]
    },
    {
      "cell_type": "code",
      "execution_count": null,
      "metadata": {
        "colab": {
          "background_save": true,
          "base_uri": "https://localhost:8080/"
        },
        "id": "rbzrceO-dkKO",
        "outputId": "5e0dfb01-535a-4b1f-fc77-dd458ee98b9a"
      },
      "outputs": [
        {
          "name": "stdout",
          "output_type": "stream",
          "text": [
            "4.9\n"
          ]
        }
      ],
      "source": [
        "City_with_highest_avg_rating=city_avg_rating.max()\n",
        "print(City_with_highest_avg_rating)"
      ]
    },
    {
      "cell_type": "markdown",
      "metadata": {
        "id": "2JZqCzgThFwy"
      },
      "source": [
        "# **Task-3: Price Range Distribution**"
      ]
    },
    {
      "cell_type": "markdown",
      "metadata": {
        "id": "HPnGTiS5eHsb"
      },
      "source": [
        "# **Calculate the percentage of restaurants in each price range category.**"
      ]
    },
    {
      "cell_type": "code",
      "execution_count": null,
      "metadata": {
        "colab": {
          "base_uri": "https://localhost:8080/"
        },
        "id": "R0PWRaTEdsH3",
        "outputId": "b54fc6d4-8593-49f6-a6b6-c83ab989ed81"
      },
      "outputs": [
        {
          "name": "stdout",
          "output_type": "stream",
          "text": [
            "Price range\n",
            "1    4444\n",
            "2    3113\n",
            "3    1408\n",
            "4     586\n",
            "Name: count, dtype: int64\n"
          ]
        }
      ],
      "source": [
        "Price_range_distribution=data['Price range'].value_counts()\n",
        "print(Price_range_distribution)"
      ]
    },
    {
      "cell_type": "code",
      "execution_count": null,
      "metadata": {
        "colab": {
          "base_uri": "https://localhost:8080/"
        },
        "id": "W-mAiGHbeXl-",
        "outputId": "43ea1a95-5283-4336-c6d6-58e9bb69fbfa"
      },
      "outputs": [
        {
          "name": "stdout",
          "output_type": "stream",
          "text": [
            "Price range\n",
            "1    46.529159\n",
            "2    32.593446\n",
            "3    14.741912\n",
            "4     6.135483\n",
            "Name: count, dtype: float64\n"
          ]
        }
      ],
      "source": [
        "percentage_distribution=(Price_range_distribution/total_Restaurant)*100\n",
        "print(percentage_distribution)"
      ]
    },
    {
      "cell_type": "code",
      "source": [
        "sns.barplot(x=Price_range_distribution.index,y=Price_range_distribution.values)\n",
        "plt.title('Price Range Distribution')"
      ],
      "metadata": {
        "colab": {
          "base_uri": "https://localhost:8080/",
          "height": 489
        },
        "id": "bR5Umt-aHFhA",
        "outputId": "0aa7d51e-a5c2-4c51-9cd6-5d327d157fae"
      },
      "execution_count": 96,
      "outputs": [
        {
          "output_type": "execute_result",
          "data": {
            "text/plain": [
              "Text(0.5, 1.0, 'Price Range Distribution')"
            ]
          },
          "metadata": {},
          "execution_count": 96
        },
        {
          "output_type": "display_data",
          "data": {
            "text/plain": [
              "<Figure size 640x480 with 1 Axes>"
            ],
            "image/png": "[encoded data removed]"
          },
          "metadata": {}
        }
      ]
    },
    {
      "cell_type": "markdown",
      "metadata": {
        "id": "9pVMNybQhNyR"
      },
      "source": [
        "# **Create a histogram or bar chart to visualize the distribution of price ranges among the restaurants.**"
      ]
    },
    {
      "cell_type": "code",
      "execution_count": 97,
      "metadata": {
        "colab": {
          "base_uri": "https://localhost:8080/",
          "height": 494
        },
        "id": "VFQskq5ndsOL",
        "outputId": "ffb79667-2843-44c3-e079-5154987538ce"
      },
      "outputs": [
        {
          "output_type": "execute_result",
          "data": {
            "text/plain": [
              "Text(0, 0.5, 'Number of Restaurants')"
            ]
          },
          "metadata": {},
          "execution_count": 97
        },
        {
          "output_type": "display_data",
          "data": {
            "text/plain": [
              "<Figure size 640x480 with 1 Axes>"
            ],
            "image/png": "[encoded data removed]"
          },
          "metadata": {}
        }
      ],
      "source": [
        "sns.barplot(x=Price_range_distribution.index,y=Price_range_distribution.values,color='y')\n",
        "plt.title('Distribution of Price Ranges Among Restaurants', fontsize=14)\n",
        "plt.xlabel('Price Range', fontsize=12)\n",
        "plt.ylabel('Number of Restaurants', fontsize=12)"
      ]
    },
    {
      "cell_type": "markdown",
      "metadata": {
        "id": "ytMSucPjgkJV"
      },
      "source": [
        "# **Task-4: Online Delivery**"
      ]
    },
    {
      "cell_type": "markdown",
      "metadata": {
        "id": "gsHfkFo3d1-M"
      },
      "source": [
        "# **Determine the percentage of restaurants that offer online delivery.**"
      ]
    },
    {
      "cell_type": "code",
      "execution_count": null,
      "metadata": {
        "colab": {
          "base_uri": "https://localhost:8080/"
        },
        "id": "OIVLA5-4dr_h",
        "outputId": "fafe0ad4-71bc-4802-aae9-f52ac8f26c6a"
      },
      "outputs": [
        {
          "name": "stdout",
          "output_type": "stream",
          "text": [
            "Has Online delivery\n",
            "No     7100\n",
            "Yes    2451\n",
            "Name: count, dtype: int64\n"
          ]
        }
      ],
      "source": [
        "print(data['Has Online delivery'].value_counts())"
      ]
    },
    {
      "cell_type": "code",
      "execution_count": null,
      "metadata": {
        "colab": {
          "base_uri": "https://localhost:8080/"
        },
        "id": "JsGQb0Y5dsEp",
        "outputId": "d029d71a-ee73-4a85-cfa0-a66785926c00"
      },
      "outputs": [
        {
          "name": "stdout",
          "output_type": "stream",
          "text": [
            "Has Online delivery\n",
            "No     74.337766\n",
            "Yes    25.662234\n",
            "Name: count, dtype: float64\n"
          ]
        }
      ],
      "source": [
        "persentage_of_Restaurant=(data['Has Online delivery'].value_counts()/total_Restaurant)*100\n",
        "print(persentage_of_Restaurant)"
      ]
    },
    {
      "cell_type": "markdown",
      "metadata": {
        "id": "mj8qf4DwdogP"
      },
      "source": [
        "# **Compare the average ratings of restaurants with and without online delivery.**"
      ]
    },
    {
      "cell_type": "code",
      "execution_count": null,
      "metadata": {
        "colab": {
          "base_uri": "https://localhost:8080/"
        },
        "id": "F4_l-wRJdr1R",
        "outputId": "346bf55c-fab9-42d4-af05-d91a3163b8ef"
      },
      "outputs": [
        {
          "name": "stdout",
          "output_type": "stream",
          "text": [
            "Has Online delivery\n",
            "No     2.465296\n",
            "Yes    3.248837\n",
            "Name: Aggregate rating, dtype: float64\n"
          ]
        }
      ],
      "source": [
        "average_ratings = data.groupby('Has Online delivery')['Aggregate rating'].mean()\n",
        "print(average_ratings)"
      ]
    },
    {
      "cell_type": "markdown",
      "metadata": {
        "id": "hX6sidfgnYEY"
      },
      "source": [
        "# **Level-2**\n",
        "# **Task-1 Restaurant Ratings**"
      ]
    },
    {
      "cell_type": "markdown",
      "metadata": {
        "id": "lyP75IGOnsxG"
      },
      "source": [
        "# **Analyze the distribution of aggregate ratings and determine the most common rating range.**"
      ]
    },
    {
      "cell_type": "code",
      "execution_count": null,
      "metadata": {
        "colab": {
          "background_save": true
        },
        "id": "CdcIYBM4nU-E",
        "outputId": "73612ddf-5962-4d1e-f660-737a702667ea"
      },
      "outputs": [
        {
          "name": "stdout",
          "output_type": "stream",
          "text": [
            "<bound method IndexOpsMixin.value_counts of 0       4.8\n",
            "1       4.5\n",
            "2       4.4\n",
            "3       4.9\n",
            "4       4.8\n",
            "       ... \n",
            "9546    4.1\n",
            "9547    4.2\n",
            "9548    3.7\n",
            "9549    4.0\n",
            "9550    4.0\n",
            "Name: Aggregate rating, Length: 9551, dtype: float64>\n"
          ]
        }
      ],
      "source": [
        "aggregate_rating_dist=data['Aggregate rating'].value_counts\n",
        "print(aggregate_rating_dist)"
      ]
    },
    {
      "cell_type": "code",
      "execution_count": 78,
      "metadata": {
        "id": "jhUhXt0SnWh0",
        "colab": {
          "base_uri": "https://localhost:8080/"
        },
        "outputId": "5d4404b5-4f35-494c-f781-4ed786e1f1ea"
      },
      "outputs": [
        {
          "output_type": "stream",
          "name": "stdout",
          "text": [
            "0    0.0\n",
            "Name: Aggregate rating, dtype: float64\n"
          ]
        }
      ],
      "source": [
        "rating_rang=data['Aggregate rating'].mode()\n",
        "print(rating_rang)"
      ]
    },
    {
      "cell_type": "code",
      "source": [
        "plt.hist(data['Aggregate rating'],color='purple')"
      ],
      "metadata": {
        "colab": {
          "base_uri": "https://localhost:8080/",
          "height": 499
        },
        "id": "BHAUrP6DF6lD",
        "outputId": "9d9608dd-75d2-42cd-f644-9eab46e14ced"
      },
      "execution_count": 88,
      "outputs": [
        {
          "output_type": "execute_result",
          "data": {
            "text/plain": [
              "(array([2148.,    0.,    0.,    3.,  183., 1247., 2490., 2100., 1079.,\n",
              "         301.]),\n",
              " array([0.  , 0.49, 0.98, 1.47, 1.96, 2.45, 2.94, 3.43, 3.92, 4.41, 4.9 ]),\n",
              " <BarContainer object of 10 artists>)"
            ]
          },
          "metadata": {},
          "execution_count": 88
        },
        {
          "output_type": "display_data",
          "data": {
            "text/plain": [
              "<Figure size 640x480 with 1 Axes>"
            ],
            "image/png": "[encoded data removed]"
          },
          "metadata": {}
        }
      ]
    },
    {
      "cell_type": "markdown",
      "metadata": {
        "id": "66GUIWmMoTQ8"
      },
      "source": [
        "# **Calculate the average number of votes received by restaurants.**"
      ]
    },
    {
      "cell_type": "code",
      "execution_count": 84,
      "metadata": {
        "colab": {
          "base_uri": "https://localhost:8080/"
        },
        "id": "RtfcQLH9nWuQ",
        "outputId": "f17964c0-e60e-4639-e69f-b1cb53a80fc1"
      },
      "outputs": [
        {
          "output_type": "stream",
          "name": "stdout",
          "text": [
            "156.909747670401\n"
          ]
        }
      ],
      "source": [
        "average_votes=data['Votes'].mean()\n",
        "print(average_votes)"
      ]
    },
    {
      "cell_type": "markdown",
      "metadata": {
        "id": "QYCjgQCSoqs_"
      },
      "source": [
        "# **Task-4 Restaurant Chains**\n",
        "# **Identify if there are any restaurant chains present in the dataset.**"
      ]
    },
    {
      "cell_type": "markdown",
      "metadata": {
        "id": "XtztcSeSr7yK"
      },
      "source": []
    },
    {
      "cell_type": "code",
      "execution_count": 85,
      "metadata": {
        "colab": {
          "base_uri": "https://localhost:8080/"
        },
        "id": "rptbtIOTnXP4",
        "outputId": "90930f49-3e6a-4884-befc-c08ca4c20694"
      },
      "outputs": [
        {
          "output_type": "stream",
          "name": "stdout",
          "text": [
            "Restaurant Name\n",
            "Cafe Coffee Day             83\n",
            "Domino's Pizza              79\n",
            "Subway                      63\n",
            "Green Chick Chop            51\n",
            "McDonald's                  48\n",
            "                            ..\n",
            "Odeon Social                 1\n",
            "Johnny Rockets               1\n",
            "House of Commons             1\n",
            "HotMess                      1\n",
            "Walter's Coffee Roastery     1\n",
            "Name: count, Length: 7446, dtype: int64\n"
          ]
        }
      ],
      "source": [
        "restaurant_counts = data['Restaurant Name'].value_counts()\n",
        "print(restaurant_counts)"
      ]
    },
    {
      "cell_type": "code",
      "execution_count": 86,
      "metadata": {
        "colab": {
          "base_uri": "https://localhost:8080/"
        },
        "id": "kSb5S8ZnnXUp",
        "outputId": "2dfe47b9-5a68-4131-ce7f-c265639f83f4"
      },
      "outputs": [
        {
          "output_type": "stream",
          "name": "stdout",
          "text": [
            "Restaurant Name\n",
            "Cafe Coffee Day       83\n",
            "Domino's Pizza        79\n",
            "Subway                63\n",
            "Green Chick Chop      51\n",
            "McDonald's            48\n",
            "                      ..\n",
            "Town Hall              2\n",
            "Halki Aanch            2\n",
            "Snack Junction         2\n",
            "Delhi Biryani Hut      2\n",
            "Beliram Degchiwala     2\n",
            "Name: count, Length: 734, dtype: int64\n"
          ]
        }
      ],
      "source": [
        "restaurant_chains = restaurant_counts[restaurant_counts >1]\n",
        "print(restaurant_chains)"
      ]
    },
    {
      "cell_type": "markdown",
      "metadata": {
        "id": "lySxLkrLtQE6"
      },
      "source": [
        "# **Analyze the ratings and popularity of different restaurant chains.**"
      ]
    },
    {
      "cell_type": "code",
      "execution_count": 81,
      "metadata": {
        "id": "QHC4FFjRnXaJ",
        "colab": {
          "base_uri": "https://localhost:8080/",
          "height": 941
        },
        "outputId": "18d0a60c-9ee1-4ca8-9fcd-1fcf2eed8ff1"
      },
      "outputs": [
        {
          "output_type": "stream",
          "name": "stdout",
          "text": [
            "Restaurant Name\n",
            "#45                     3.6\n",
            "#Dilliwaala6            3.7\n",
            "#InstaFreeze            0.0\n",
            "#OFF Campus             3.7\n",
            "#Urban Caf��            3.3\n",
            "                       ... \n",
            "t Lounge by Dilmah      3.6\n",
            "tashas                  4.1\n",
            "wagamama                3.7\n",
            "{Niche} - Cafe & Bar    4.1\n",
            "�ukura��a Sofras۱       4.4\n",
            "Name: Aggregate rating, Length: 7446, dtype: float64\n",
            "Restaurant Name\n",
            "#45                     209\n",
            "#Dilliwaala6            124\n",
            "#InstaFreeze              2\n",
            "#OFF Campus             216\n",
            "#Urban Caf��             49\n",
            "                       ... \n",
            "t Lounge by Dilmah       34\n",
            "tashas                  374\n",
            "wagamama                131\n",
            "{Niche} - Cafe & Bar    492\n",
            "�ukura��a Sofras۱       296\n",
            "Name: Votes, Length: 7446, dtype: int64\n"
          ]
        },
        {
          "output_type": "execute_result",
          "data": {
            "text/plain": [
              "Restaurant Name\n",
              "Barbeque Nation              28142\n",
              "AB's - Absolute Barbecues    13400\n",
              "Toit                         10934\n",
              "Big Chill                    10853\n",
              "Farzi Cafe                   10098\n",
              "                             ...  \n",
              "Muncheezz                        0\n",
              "Swiss Gourmessa                  0\n",
              "Dosa and Pizza Corner            0\n",
              "Sweets n Treats                  0\n",
              "Food Station                     0\n",
              "Name: Votes, Length: 7446, dtype: int64"
            ],
            "text/html": [
              "<div>\n",
              "<style scoped>\n",
              "    .dataframe tbody tr th:only-of-type {\n",
              "        vertical-align: middle;\n",
              "    }\n",
              "\n",
              "    .dataframe tbody tr th {\n",
              "        vertical-align: top;\n",
              "    }\n",
              "\n",
              "    .dataframe thead th {\n",
              "        text-align: right;\n",
              "    }\n",
              "</style>\n",
              "<table border=\"1\" class=\"dataframe\">\n",
              "  <thead>\n",
              "    <tr style=\"text-align: right;\">\n",
              "      <th></th>\n",
              "      <th>Votes</th>\n",
              "    </tr>\n",
              "    <tr>\n",
              "      <th>Restaurant Name</th>\n",
              "      <th></th>\n",
              "    </tr>\n",
              "  </thead>\n",
              "  <tbody>\n",
              "    <tr>\n",
              "      <th>Barbeque Nation</th>\n",
              "      <td>28142</td>\n",
              "    </tr>\n",
              "    <tr>\n",
              "      <th>AB's - Absolute Barbecues</th>\n",
              "      <td>13400</td>\n",
              "    </tr>\n",
              "    <tr>\n",
              "      <th>Toit</th>\n",
              "      <td>10934</td>\n",
              "    </tr>\n",
              "    <tr>\n",
              "      <th>Big Chill</th>\n",
              "      <td>10853</td>\n",
              "    </tr>\n",
              "    <tr>\n",
              "      <th>Farzi Cafe</th>\n",
              "      <td>10098</td>\n",
              "    </tr>\n",
              "    <tr>\n",
              "      <th>...</th>\n",
              "      <td>...</td>\n",
              "    </tr>\n",
              "    <tr>\n",
              "      <th>Muncheezz</th>\n",
              "      <td>0</td>\n",
              "    </tr>\n",
              "    <tr>\n",
              "      <th>Swiss Gourmessa</th>\n",
              "      <td>0</td>\n",
              "    </tr>\n",
              "    <tr>\n",
              "      <th>Dosa and Pizza Corner</th>\n",
              "      <td>0</td>\n",
              "    </tr>\n",
              "    <tr>\n",
              "      <th>Sweets n Treats</th>\n",
              "      <td>0</td>\n",
              "    </tr>\n",
              "    <tr>\n",
              "      <th>Food Station</th>\n",
              "      <td>0</td>\n",
              "    </tr>\n",
              "  </tbody>\n",
              "</table>\n",
              "<p>7446 rows × 1 columns</p>\n",
              "</div><br><label><b>dtype:</b> int64</label>"
            ]
          },
          "metadata": {},
          "execution_count": 81
        }
      ],
      "source": [
        "rating=data.groupby('Restaurant Name')['Aggregate rating'].mean()\n",
        "print(rating)\n",
        "rating.sort_values(ascending=False)\n",
        "Votes=data.groupby('Restaurant Name')['Votes'].sum()\n",
        "print(Votes)\n",
        "Votes.sort_values(ascending=False)"
      ]
    },
    {
      "cell_type": "markdown",
      "metadata": {
        "id": "xgXG0orwvUBq"
      },
      "source": [
        "# **Level-3**\n",
        "# Task-1 Restaurant Reviews"
      ]
    },
    {
      "cell_type": "markdown",
      "metadata": {
        "id": "f_EzwOcq2pjU"
      },
      "source": [
        "# **Analyze the text reviews to identify the most common positive and negative keywords.**"
      ]
    },
    {
      "cell_type": "code",
      "execution_count": null,
      "metadata": {
        "colab": {
          "base_uri": "https://localhost:8080/"
        },
        "id": "idbmuKsv2xIA",
        "outputId": "a3333876-28ef-4810-9fd2-ff3547fed0fd"
      },
      "outputs": [
        {
          "name": "stdout",
          "output_type": "stream",
          "text": [
            "['Excellent' 'Very Good' 'Good' 'Average' 'Not rated' 'Poor']\n"
          ]
        }
      ],
      "source": [
        "print(data['Rating text'].unique())"
      ]
    },
    {
      "cell_type": "code",
      "execution_count": null,
      "metadata": {
        "colab": {
          "base_uri": "https://localhost:8080/",
          "height": 499
        },
        "id": "1fw2xNG_3nmA",
        "outputId": "b361427c-503d-4041-dbba-918d334fb3ca"
      },
      "outputs": [
        {
          "data": {
            "text/plain": [
              "(array([ 301.,    0., 1079.,    0., 2100.,    0., 3737.,    0., 2148.,\n",
              "         186.]),\n",
              " array([0. , 0.5, 1. , 1.5, 2. , 2.5, 3. , 3.5, 4. , 4.5, 5. ]),\n",
              " <BarContainer object of 10 artists>)"
            ]
          },
          "execution_count": 4,
          "metadata": {},
          "output_type": "execute_result"
        },
        {
          "data": {
            "image/png": "[encoded data removed]",
            "text/plain": [
              "<Figure size 640x480 with 1 Axes>"
            ]
          },
          "metadata": {},
          "output_type": "display_data"
        }
      ],
      "source": [
        "plt.hist(data['Rating text'],color='brown')"
      ]
    },
    {
      "cell_type": "markdown",
      "metadata": {
        "id": "6w1DBCdA4L-M"
      },
      "source": [
        "# **Calculate the average length of reviews and explore if there is a relationship between review length and rating.**"
      ]
    },
    {
      "cell_type": "code",
      "execution_count": null,
      "metadata": {
        "colab": {
          "base_uri": "https://localhost:8080/"
        },
        "id": "5JDtV2tuswRU",
        "outputId": "07e694e6-f3cc-429b-bc53-a4d938009412"
      },
      "outputs": [
        {
          "name": "stdout",
          "output_type": "stream",
          "text": [
            "0       9\n",
            "1       9\n",
            "2       9\n",
            "3       9\n",
            "4       9\n",
            "       ..\n",
            "9546    9\n",
            "9547    9\n",
            "9548    4\n",
            "9549    9\n",
            "9550    9\n",
            "Name: Rating text, Length: 9551, dtype: int64\n"
          ]
        }
      ],
      "source": [
        "Review_length=data['Rating text'].apply(len)\n",
        "print(Review_length)\n"
      ]
    },
    {
      "cell_type": "code",
      "execution_count": null,
      "metadata": {
        "colab": {
          "base_uri": "https://localhost:8080/"
        },
        "id": "pn8vMMLVuVxo",
        "outputId": "b4de42fc-55d2-4854-e7ee-8b58a7ff6a43"
      },
      "outputs": [
        {
          "name": "stdout",
          "output_type": "stream",
          "text": [
            "7.020730813527379\n"
          ]
        }
      ],
      "source": [
        "print(Review_length.mean())"
      ]
    },
    {
      "cell_type": "code",
      "execution_count": null,
      "metadata": {
        "colab": {
          "base_uri": "https://localhost:8080/",
          "height": 466
        },
        "id": "bxiM7ydIZuzc",
        "outputId": "578c1893-2580-4d07-dccf-429f35651975"
      },
      "outputs": [
        {
          "data": {
            "text/plain": [
              "<Axes: xlabel='Rating text', ylabel='Aggregate rating'>"
            ]
          },
          "execution_count": 23,
          "metadata": {},
          "output_type": "execute_result"
        },
        {
          "data": {
            "image/png": "[encoded data removed]",
            "text/plain": [
              "<Figure size 640x480 with 1 Axes>"
            ]
          },
          "metadata": {},
          "output_type": "display_data"
        }
      ],
      "source": [
        "sns.barplot(x=Review_length,y=data['Aggregate rating'],color='g')"
      ]
    },
    {
      "cell_type": "code",
      "execution_count": null,
      "metadata": {
        "colab": {
          "base_uri": "https://localhost:8080/"
        },
        "id": "8yW2AIHebmA8",
        "outputId": "779754f1-ab5d-454b-c79d-2923f71a2dd1"
      },
      "outputs": [
        {
          "name": "stdout",
          "output_type": "stream",
          "text": [
            "-0.4788848381349333\n"
          ]
        }
      ],
      "source": [
        "correlation=data['Aggregate rating'].corr(Review_length)\n",
        "print(correlation)"
      ]
    },
    {
      "cell_type": "markdown",
      "metadata": {
        "id": "o8YWkJ9P4utl"
      },
      "source": [
        "# **Task-2 Votes Analysis**\n",
        "# **Identify the restaurants with the highest and lowest number of votes.**"
      ]
    },
    {
      "cell_type": "code",
      "execution_count": null,
      "metadata": {
        "colab": {
          "base_uri": "https://localhost:8080/"
        },
        "id": "k0GPGzrI4K-B",
        "outputId": "3b34a485-ff7a-4b3d-e723-b151d9e06e26"
      },
      "outputs": [
        {
          "name": "stdout",
          "output_type": "stream",
          "text": [
            "69\n"
          ]
        }
      ],
      "source": [
        "print(data['Votes'].idxmin())"
      ]
    },
    {
      "cell_type": "code",
      "execution_count": null,
      "metadata": {
        "colab": {
          "base_uri": "https://localhost:8080/"
        },
        "id": "DfKdTikk4LVd",
        "outputId": "748200cc-a659-440f-d84b-eb14d6836fd2"
      },
      "outputs": [
        {
          "name": "stdout",
          "output_type": "stream",
          "text": [
            "728\n"
          ]
        }
      ],
      "source": [
        "print(data['Votes'].idxmax())"
      ]
    },
    {
      "cell_type": "markdown",
      "metadata": {
        "id": "4wFXH1hTkPkf"
      },
      "source": [
        "# **Analyze if there is a correlation between the number of votes and the rating of a restaurant.**"
      ]
    },
    {
      "cell_type": "code",
      "execution_count": null,
      "metadata": {
        "colab": {
          "base_uri": "https://localhost:8080/",
          "height": 489
        },
        "id": "ctK9trpskJsv",
        "outputId": "685d06dc-345f-4324-a92d-931fb8813fc0"
      },
      "outputs": [
        {
          "data": {
            "text/plain": [
              "Text(0, 0.5, 'Aggregate Rating')"
            ]
          },
          "execution_count": 44,
          "metadata": {},
          "output_type": "execute_result"
        },
        {
          "data": {
            "image/png": "[encoded data removed]",
            "text/plain": [
              "<Figure size 640x480 with 1 Axes>"
            ]
          },
          "metadata": {},
          "output_type": "display_data"
        }
      ],
      "source": [
        "sns.scatterplot(x=data['Votes'],y=data['Aggregate rating'],color='g')\n",
        "plt.title('Relationship between Number of Votes and Rating')\n",
        "plt.xlabel('Number of Votes')\n",
        "plt.ylabel('Aggregate Rating')\n"
      ]
    },
    {
      "cell_type": "markdown",
      "metadata": {
        "id": "4w9u3gCz0EoL"
      },
      "source": []
    }
  ],
  "metadata": {
    "colab": {
      "provenance": [],
      "authorship_tag": "ABX9TyMQWrsErojRpJQaqsNHIuqx",
      "include_colab_link": true
    },
    "kernelspec": {
      "display_name": "Python 3",
      "name": "python3"
    },
    "language_info": {
      "name": "python"
    }
  },
  "nbformat": 4,
  "nbformat_minor": 0
}